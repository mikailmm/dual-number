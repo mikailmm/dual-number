{
 "cells": [
  {
   "cell_type": "markdown",
   "id": "13edac0d-1508-413b-8ad9-4c19bf388b8d",
   "metadata": {},
   "source": [
    "# Initialize"
   ]
  },
  {
   "cell_type": "code",
   "execution_count": 1,
   "id": "4b746449-c48a-4f70-9e50-77614212153e",
   "metadata": {
    "execution": {
     "iopub.execute_input": "2023-03-23T09:45:11.818564Z",
     "iopub.status.busy": "2023-03-23T09:45:11.818341Z",
     "iopub.status.idle": "2023-03-23T09:45:11.828644Z",
     "shell.execute_reply": "2023-03-23T09:45:11.828026Z",
     "shell.execute_reply.started": "2023-03-23T09:45:11.818550Z"
    }
   },
   "outputs": [],
   "source": [
    "from dual_number import Dual"
   ]
  },
  {
   "cell_type": "code",
   "execution_count": 2,
   "id": "e5ce2c2d-4402-46eb-b4ab-9cb18fb3a433",
   "metadata": {
    "execution": {
     "iopub.execute_input": "2023-03-23T09:45:11.831814Z",
     "iopub.status.busy": "2023-03-23T09:45:11.831508Z",
     "iopub.status.idle": "2023-03-23T09:45:11.836585Z",
     "shell.execute_reply": "2023-03-23T09:45:11.835726Z",
     "shell.execute_reply.started": "2023-03-23T09:45:11.831799Z"
    },
    "tags": []
   },
   "outputs": [
    {
     "name": "stdout",
     "output_type": "stream",
     "text": [
      "a=3+ε b=2+4ε\n"
     ]
    }
   ],
   "source": [
    "a = Dual(3, 1)\n",
    "b = Dual(2, 4)\n",
    "print(f'{a=} {b=}')"
   ]
  },
  {
   "cell_type": "markdown",
   "id": "a6e79973-cd4f-4e06-9cd6-98a08915fe8e",
   "metadata": {},
   "source": [
    "# Addition and Subtraction"
   ]
  },
  {
   "cell_type": "markdown",
   "id": "74d2432e-319f-4a4e-b632-707c3afcaea6",
   "metadata": {},
   "source": [
    "## Dual with Dual"
   ]
  },
  {
   "cell_type": "code",
   "execution_count": 3,
   "id": "fbc81ec8-bd9d-4564-b307-ed9faa6f19e8",
   "metadata": {
    "execution": {
     "iopub.execute_input": "2023-03-23T09:45:11.838469Z",
     "iopub.status.busy": "2023-03-23T09:45:11.837986Z",
     "iopub.status.idle": "2023-03-23T09:45:11.844660Z",
     "shell.execute_reply": "2023-03-23T09:45:11.842992Z",
     "shell.execute_reply.started": "2023-03-23T09:45:11.838382Z"
    },
    "tags": []
   },
   "outputs": [
    {
     "name": "stdout",
     "output_type": "stream",
     "text": [
      "a+b=5+5ε\n"
     ]
    }
   ],
   "source": [
    "print(f'{a+b=}')"
   ]
  },
  {
   "cell_type": "code",
   "execution_count": 4,
   "id": "0d5024b4-210f-4c4b-b2ab-3cee98857503",
   "metadata": {
    "execution": {
     "iopub.execute_input": "2023-03-23T09:45:11.848279Z",
     "iopub.status.busy": "2023-03-23T09:45:11.847137Z",
     "iopub.status.idle": "2023-03-23T09:45:11.852652Z",
     "shell.execute_reply": "2023-03-23T09:45:11.852193Z",
     "shell.execute_reply.started": "2023-03-23T09:45:11.848222Z"
    },
    "tags": []
   },
   "outputs": [
    {
     "name": "stdout",
     "output_type": "stream",
     "text": [
      "a-b=1-3ε\n"
     ]
    }
   ],
   "source": [
    "print(f'{a-b=}')"
   ]
  },
  {
   "cell_type": "markdown",
   "id": "0b543dea-f618-4745-85d6-262b64743b9b",
   "metadata": {},
   "source": [
    "## Dual with int and float"
   ]
  },
  {
   "cell_type": "code",
   "execution_count": 5,
   "id": "71c59a4a-b01b-448c-ad88-9ff8a9c3eeb2",
   "metadata": {
    "execution": {
     "iopub.execute_input": "2023-03-23T09:45:11.853216Z",
     "iopub.status.busy": "2023-03-23T09:45:11.853121Z",
     "iopub.status.idle": "2023-03-23T09:45:11.857325Z",
     "shell.execute_reply": "2023-03-23T09:45:11.856868Z",
     "shell.execute_reply.started": "2023-03-23T09:45:11.853205Z"
    },
    "tags": []
   },
   "outputs": [
    {
     "name": "stdout",
     "output_type": "stream",
     "text": [
      "1+a=4+ε\n"
     ]
    }
   ],
   "source": [
    "print(f'{1+a=}')"
   ]
  },
  {
   "cell_type": "code",
   "execution_count": 6,
   "id": "ba3e212c-7141-4b25-9e16-589f52283123",
   "metadata": {
    "execution": {
     "iopub.execute_input": "2023-03-23T09:45:11.858202Z",
     "iopub.status.busy": "2023-03-23T09:45:11.858086Z",
     "iopub.status.idle": "2023-03-23T09:45:11.861696Z",
     "shell.execute_reply": "2023-03-23T09:45:11.861290Z",
     "shell.execute_reply.started": "2023-03-23T09:45:11.858192Z"
    },
    "tags": []
   },
   "outputs": [
    {
     "name": "stdout",
     "output_type": "stream",
     "text": [
      "b-3.5=-1.5+4ε\n"
     ]
    }
   ],
   "source": [
    "print(f'{b-3.5=}')"
   ]
  },
  {
   "cell_type": "markdown",
   "id": "3b86c932-5dc8-467b-ad90-9a52278ea66f",
   "metadata": {},
   "source": [
    "# Multiplication"
   ]
  },
  {
   "cell_type": "markdown",
   "id": "da806e8e-59bb-42d6-bc7d-933e11e469ec",
   "metadata": {},
   "source": [
    "## Dual with Dual"
   ]
  },
  {
   "cell_type": "code",
   "execution_count": 7,
   "id": "e169d3c1-3876-4789-82a8-cd5b833dcd9c",
   "metadata": {
    "execution": {
     "iopub.execute_input": "2023-03-23T09:45:11.864164Z",
     "iopub.status.busy": "2023-03-23T09:45:11.863757Z",
     "iopub.status.idle": "2023-03-23T09:45:11.866175Z",
     "shell.execute_reply": "2023-03-23T09:45:11.865947Z",
     "shell.execute_reply.started": "2023-03-23T09:45:11.864149Z"
    },
    "tags": []
   },
   "outputs": [
    {
     "name": "stdout",
     "output_type": "stream",
     "text": [
      "a*b=6+14ε\n"
     ]
    }
   ],
   "source": [
    "print(f'{a*b=}')"
   ]
  }
 ],
 "metadata": {
  "kernelspec": {
   "display_name": "Python 3 (ipykernel)",
   "language": "python",
   "name": "python3"
  },
  "language_info": {
   "codemirror_mode": {
    "name": "ipython",
    "version": 3
   },
   "file_extension": ".py",
   "mimetype": "text/x-python",
   "name": "python",
   "nbconvert_exporter": "python",
   "pygments_lexer": "ipython3",
   "version": "3.11.2"
  }
 },
 "nbformat": 4,
 "nbformat_minor": 5
}
